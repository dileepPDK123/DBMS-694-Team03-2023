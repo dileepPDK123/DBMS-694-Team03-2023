{
 "cells": [
  {
   "cell_type": "markdown",
   "id": "0cb7ecc1",
   "metadata": {},
   "source": [
    "#The code is responsible for creating tables in a MySQL database. To perform this task, it establishes a connection to the MySQL server using a specific username and password provided by the user. This connection allows the code to execute SQL queries to create the necessary tables in the database. "
   ]
  },
  {
   "cell_type": "code",
   "execution_count": null,
   "id": "05167607",
   "metadata": {},
   "outputs": [],
   "source": [
    "import mysql.connector\n",
    "import json"
   ]
  },
  {
   "cell_type": "code",
   "execution_count": 11,
   "id": "132b5e4b",
   "metadata": {},
   "outputs": [],
   "source": [
    "# Connect to a MySQL database\n",
    "conn = mysql.connector.connect(\n",
    "    host='localhost',\n",
    "    user='root',\n",
    "    password='Kum@r123',\n",
    "    database=\"Twitter1\"\n",
    ")\n",
    "\n",
    "# Create a cursor object\n",
    "cursor = conn.cursor()\n",
    "cursor.execute(\"CREATE DATABASE Twitter1\")"
   ]
  },
  {
   "cell_type": "code",
   "execution_count": 17,
   "id": "7294f7a7",
   "metadata": {},
   "outputs": [],
   "source": [
    "cursor = conn.cursor()\n",
    "# Create a table for users\n",
    "cursor.execute('''CREATE TABLE user\n",
    "             (user_id INTEGER PRIMARY KEY,\n",
    "             user_id_str VARCHAR(255),\n",
    "             name VARCHAR(255),\n",
    "             screen_name VARCHAR(255),\n",
    "             location VARCHAR(255),\n",
    "             description TEXT,\n",
    "             protected VARCHAR(10),\n",
    "             verified VARCHAR(10),\n",
    "             followers_count INTEGER,\n",
    "             friends_count INTEGER,\n",
    "             favourites_count INTEGER,\n",
    "             statuses_count INTEGER,\n",
    "             created_at VARCHAR(255),\n",
    "             media_url VARCHAR(255))''')\n",
    "\n",
    "# a table for tweets\n",
    "cursor.execute('''CREATE TABLE tweet\n",
    "             (tweet_id INTEGER PRIMARY KEY,\n",
    "             tweet_id_str VARCHAR(255),\n",
    "             user_id INTEGER,\n",
    "             in_reply_to_status_id INTEGER,\n",
    "             in_reply_to_status_id_str VARCHAR(255),\n",
    "             in_reply_to_user_id INTEGER,\n",
    "             in_reply_to_user_id_str VARCHAR(255),\n",
    "             in_reply_to_screen_name VARCHAR(255),\n",
    "             reply_count INTEGER,\n",
    "             retweet_count INTEGER,\n",
    "             favorite_count INTEGER,\n",
    "             retweeted VARCHAR(10),\n",
    "             filter_level VARCHAR(10),\n",
    "             possible_sensitivity VARCHAR(10),\n",
    "             FOREIGN KEY (user_id) REFERENCES user(user_id))''')\n",
    "#a table for retweets\n",
    "cursor.execute('''CREATE TABLE retweet\n",
    "             (retweet_id INTEGER PRIMARY KEY,\n",
    "             retweet_id_str VARCHAR(255),\n",
    "             user_id INTEGER,\n",
    "             tweet_id INTEGER,\n",
    "             in_reply_to_status_id INTEGER,\n",
    "             in_reply_to_status_id_str VARCHAR(255),\n",
    "             in_reply_to_user_id INTEGER,\n",
    "             in_reply_to_user_id_str VARCHAR(255),\n",
    "             in_reply_to_screen_name VARCHAR(255),\n",
    "             FOREIGN KEY (user_id) REFERENCES user(user_id),\n",
    "             FOREIGN KEY (tweet_id) REFERENCES tweet(tweet_id))''')\n",
    "#a tablr for hastags\n",
    "cursor.execute('''CREATE TABLE hashtag \n",
    "             (hastag_id INT PRIMARY KEY,\n",
    "             name VARCHAR(50))''')\n",
    "#a table for composite key\n",
    "# PRIMARY KEY (tweet_id, hashtag_id),\n",
    "cursor.execute('''CREATE TABLE tweet_hashtags \n",
    "             (tweet_id INT,\n",
    "              hashtag_id INT,\n",
    "              FOREIGN KEY (tweet_id) REFERENCES tweets(tweet_id),\n",
    "              FOREIGN KEY (hashtag_id) REFERENCES hashtags(hastag_id))''');"
   ]
  },
  {
   "cell_type": "code",
   "execution_count": null,
   "id": "17039d18",
   "metadata": {},
   "outputs": [],
   "source": []
  }
 ],
 "metadata": {
  "kernelspec": {
   "display_name": "Python 3",
   "language": "python",
   "name": "python3"
  },
  "language_info": {
   "codemirror_mode": {
    "name": "ipython",
    "version": 3
   },
   "file_extension": ".py",
   "mimetype": "text/x-python",
   "name": "python",
   "nbconvert_exporter": "python",
   "pygments_lexer": "ipython3",
   "version": "3.8.8"
  }
 },
 "nbformat": 4,
 "nbformat_minor": 5
}
