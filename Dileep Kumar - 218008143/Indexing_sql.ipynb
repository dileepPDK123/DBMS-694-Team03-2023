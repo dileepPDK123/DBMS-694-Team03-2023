{
 "cells": [
  {
   "cell_type": "code",
   "execution_count": 6,
   "id": "b9d6e7e7",
   "metadata": {},
   "outputs": [],
   "source": [
    "import mysql.connector\n",
    "import json\n",
    "from datetime import datetime"
   ]
  },
  {
   "cell_type": "code",
   "execution_count": 7,
   "id": "2a76510c",
   "metadata": {},
   "outputs": [],
   "source": [
    "# Connect to a MySQL database\n",
    "conn = mysql.connector.connect(\n",
    "    host='localhost',\n",
    "    user='root',\n",
    "    password='Kum@r123',\n",
    "    database=\"Twitter30\"\n",
    ")\n",
    "\n",
    "# Create a cursor object\n",
    "mycursor = conn.cursor()"
   ]
  },
  {
   "cell_type": "code",
   "execution_count": null,
   "id": "c8ae15f6",
   "metadata": {},
   "outputs": [],
   "source": [
    "# Indexes for the users table\n",
    "mycursor.execute(\"CREATE INDEX user_name ON user(name)\")\n",
    "# Indexes for the tweet table\n",
    "mycursor.execute(\"CREATE INDEX tweet_user_id ON tweet(user_id)\")\n",
    "mycursor.execute(\"CREATE INDEX tweet_retweeted ON tweet(retweeted)\")\n",
    "\n",
    "# Indexes for the retweet table\n",
    "mycursor.execute(\"CREATE INDEX retweet_user_id ON retweet(user_id)\")\n",
    "mycursor.execute(\"CREATE INDEX retweet_tweet_id ON retweet(tweet_id)\")\n",
    "\n",
    "# Commit the changes and close the cursor and connection\n",
    "conn.commit()"
   ]
  }
 ],
 "metadata": {
  "kernelspec": {
   "display_name": "Python 3",
   "language": "python",
   "name": "python3"
  },
  "language_info": {
   "codemirror_mode": {
    "name": "ipython",
    "version": 3
   },
   "file_extension": ".py",
   "mimetype": "text/x-python",
   "name": "python",
   "nbconvert_exporter": "python",
   "pygments_lexer": "ipython3",
   "version": "3.8.8"
  }
 },
 "nbformat": 4,
 "nbformat_minor": 5
}
