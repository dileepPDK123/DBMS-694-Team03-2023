{
 "cells": [
  {
   "cell_type": "code",
   "execution_count": 28,
   "id": "ceca871a",
   "metadata": {},
   "outputs": [
    {
     "name": "stdout",
     "output_type": "stream",
     "text": [
      "Requirement already satisfied: numpy in c:\\users\\nkira\\anaconda3\\lib\\site-packages (1.21.5)\n"
     ]
    }
   ],
   "source": [
    "!pip3 install numpy"
   ]
  },
  {
   "cell_type": "code",
   "execution_count": 29,
   "id": "b4c53871",
   "metadata": {},
   "outputs": [],
   "source": [
    "import pandas as pd\n",
    "from pandas import json_normalize\n",
    "import json\n",
    "import numpy as np"
   ]
  },
  {
   "cell_type": "code",
   "execution_count": 15,
   "id": "2270a230",
   "metadata": {
    "scrolled": true
   },
   "outputs": [],
   "source": [
    "import pandas as pd\n",
    "\n",
    "# Load the JSON file into a pandas DataFrame\n",
    "df = pd.read_json('twitter', lines=True)"
   ]
  },
  {
   "cell_type": "code",
   "execution_count": 16,
   "id": "c19003cc",
   "metadata": {},
   "outputs": [
    {
     "name": "stdout",
     "output_type": "stream",
     "text": [
      "Index(['created_at', 'id', 'id_str', 'text', 'display_text_range', 'source',\n",
      "       'truncated', 'in_reply_to_status_id', 'in_reply_to_status_id_str',\n",
      "       'in_reply_to_user_id', 'in_reply_to_user_id_str',\n",
      "       'in_reply_to_screen_name', 'user', 'geo', 'coordinates', 'place',\n",
      "       'contributors', 'is_quote_status', 'quote_count', 'reply_count',\n",
      "       'retweet_count', 'favorite_count', 'entities', 'extended_entities',\n",
      "       'favorited', 'retweeted', 'possibly_sensitive', 'filter_level', 'lang',\n",
      "       'timestamp_ms', 'retweeted_status', 'quoted_status_id',\n",
      "       'quoted_status_id_str', 'quoted_status', 'quoted_status_permalink',\n",
      "       'extended_tweet', 'withheld_in_countries'],\n",
      "      dtype='object')\n"
     ]
    }
   ],
   "source": [
    "print(df.columns)"
   ]
  },
  {
   "cell_type": "code",
   "execution_count": null,
   "id": "a94a1600",
   "metadata": {},
   "outputs": [],
   "source": []
  },
  {
   "cell_type": "code",
   "execution_count": 10,
   "id": "76633ba9",
   "metadata": {},
   "outputs": [
    {
     "name": "stdout",
     "output_type": "stream",
     "text": [
      "82888     3.987000e+03\n",
      "16116     2.461030e+05\n",
      "419       2.461030e+05\n",
      "36316     2.461030e+05\n",
      "3970      2.461030e+05\n",
      "              ...     \n",
      "94375     1.254049e+18\n",
      "101776    1.254056e+18\n",
      "101700    1.254056e+18\n",
      "101623    1.254056e+18\n",
      "101909    1.254056e+18\n",
      "Name: in_reply_to_user_id, Length: 14855, dtype: float64\n"
     ]
    }
   ],
   "source": [
    "filtered_df = df[df['in_reply_to_user_id'].notnull()].sort_values('in_reply_to_user_id', ascending=True)\n",
    "\n",
    "# print the filtered dataframe\n",
    "print(filtered_df['in_reply_to_user_id'])"
   ]
  },
  {
   "cell_type": "code",
   "execution_count": 18,
   "id": "adf67228",
   "metadata": {},
   "outputs": [],
   "source": [
    "user_df = json_normalize(df['user'])"
   ]
  },
  {
   "cell_type": "code",
   "execution_count": 19,
   "id": "e85a06d6",
   "metadata": {},
   "outputs": [
    {
     "name": "stdout",
     "output_type": "stream",
     "text": [
      "Index(['id', 'id_str', 'name', 'screen_name', 'location', 'url', 'description',\n",
      "       'translator_type', 'protected', 'verified', 'followers_count',\n",
      "       'friends_count', 'listed_count', 'favourites_count', 'statuses_count',\n",
      "       'created_at', 'utc_offset', 'time_zone', 'geo_enabled', 'lang',\n",
      "       'contributors_enabled', 'is_translator', 'profile_background_color',\n",
      "       'profile_background_image_url', 'profile_background_image_url_https',\n",
      "       'profile_background_tile', 'profile_link_color',\n",
      "       'profile_sidebar_border_color', 'profile_sidebar_fill_color',\n",
      "       'profile_text_color', 'profile_use_background_image',\n",
      "       'profile_image_url', 'profile_image_url_https', 'profile_banner_url',\n",
      "       'default_profile', 'default_profile_image', 'following',\n",
      "       'follow_request_sent', 'notifications'],\n",
      "      dtype='object')\n"
     ]
    }
   ],
   "source": [
    "print(user_df.columns)"
   ]
  },
  {
   "cell_type": "code",
   "execution_count": 20,
   "id": "687f12e9",
   "metadata": {
    "scrolled": true
   },
   "outputs": [],
   "source": [
    "user_df.to_csv('user_df.csv', index=True)"
   ]
  },
  {
   "cell_type": "code",
   "execution_count": 21,
   "id": "dbc53e7a",
   "metadata": {},
   "outputs": [],
   "source": [
    "df1 = pd.read_csv('user_df.csv')"
   ]
  },
  {
   "cell_type": "code",
   "execution_count": 22,
   "id": "f57c5037",
   "metadata": {},
   "outputs": [
    {
     "name": "stdout",
     "output_type": "stream",
     "text": [
      "Index(['Unnamed: 0', 'id', 'id_str', 'name', 'screen_name', 'location', 'url',\n",
      "       'description', 'translator_type', 'protected', 'verified',\n",
      "       'followers_count', 'friends_count', 'listed_count', 'favourites_count',\n",
      "       'statuses_count', 'created_at', 'utc_offset', 'time_zone',\n",
      "       'geo_enabled', 'lang', 'contributors_enabled', 'is_translator',\n",
      "       'profile_background_color', 'profile_background_image_url',\n",
      "       'profile_background_image_url_https', 'profile_background_tile',\n",
      "       'profile_link_color', 'profile_sidebar_border_color',\n",
      "       'profile_sidebar_fill_color', 'profile_text_color',\n",
      "       'profile_use_background_image', 'profile_image_url',\n",
      "       'profile_image_url_https', 'profile_banner_url', 'default_profile',\n",
      "       'default_profile_image', 'following', 'follow_request_sent',\n",
      "       'notifications'],\n",
      "      dtype='object')\n"
     ]
    }
   ],
   "source": [
    "print(df1.columns)"
   ]
  },
  {
   "cell_type": "code",
   "execution_count": 23,
   "id": "1448636b",
   "metadata": {},
   "outputs": [],
   "source": [
    "df2 = df1.loc[:, ['id', 'id_str', 'name','screen_name', 'location', 'description', 'protected', 'verified', 'followers_count', 'friends_count', 'favourites_count',\n",
    "       'statuses_count', 'created_at', 'profile_background_image_url' ]]"
   ]
  },
  {
   "cell_type": "code",
   "execution_count": 24,
   "id": "c9196362",
   "metadata": {},
   "outputs": [],
   "source": [
    "df2.to_csv('user.csv', index=True)"
   ]
  },
  {
   "cell_type": "code",
   "execution_count": 31,
   "id": "c2f41232",
   "metadata": {},
   "outputs": [
    {
     "name": "stdout",
     "output_type": "stream",
     "text": [
      "Index(['created_at', 'id', 'id_str', 'text', 'display_text_range', 'source',\n",
      "       'truncated', 'in_reply_to_status_id', 'in_reply_to_status_id_str',\n",
      "       'in_reply_to_user_id', 'in_reply_to_user_id_str',\n",
      "       'in_reply_to_screen_name', 'user', 'geo', 'coordinates', 'place',\n",
      "       'contributors', 'is_quote_status', 'quote_count', 'reply_count',\n",
      "       'retweet_count', 'favorite_count', 'entities', 'extended_entities',\n",
      "       'favorited', 'retweeted', 'possibly_sensitive', 'filter_level', 'lang',\n",
      "       'timestamp_ms', 'retweeted_status', 'quoted_status_id',\n",
      "       'quoted_status_id_str', 'quoted_status', 'quoted_status_permalink',\n",
      "       'extended_tweet', 'withheld_in_countries'],\n",
      "      dtype='object')\n"
     ]
    }
   ],
   "source": [
    "print(df.columns)"
   ]
  },
  {
   "cell_type": "code",
   "execution_count": null,
   "id": "e5c73385",
   "metadata": {},
   "outputs": [],
   "source": [
    "df3 = df1.loc[:, ['id', 'id_str','in_reply_to_status_id', 'in_reply_to_status_id_str',\n",
    "       'in_reply_to_user_id', 'in_reply_to_user_id_str','in_reply_to_screen_name','reply_count',\n",
    "       'retweet_count', 'favorite_count','retweeted', 'possibly_sensitive', 'filter_level']]"
   ]
  },
  {
   "cell_type": "code",
   "execution_count": 13,
   "id": "9e4d9d31",
   "metadata": {},
   "outputs": [],
   "source": []
  },
  {
   "cell_type": "code",
   "execution_count": null,
   "id": "0120fe18",
   "metadata": {},
   "outputs": [],
   "source": []
  }
 ],
 "metadata": {
  "kernelspec": {
   "display_name": "Python 3 (ipykernel)",
   "language": "python",
   "name": "python3"
  },
  "language_info": {
   "codemirror_mode": {
    "name": "ipython",
    "version": 3
   },
   "file_extension": ".py",
   "mimetype": "text/x-python",
   "name": "python",
   "nbconvert_exporter": "python",
   "pygments_lexer": "ipython3",
   "version": "3.9.13"
  }
 },
 "nbformat": 4,
 "nbformat_minor": 5
}
