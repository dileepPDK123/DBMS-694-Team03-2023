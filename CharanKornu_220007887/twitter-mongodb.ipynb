{
 "cells": [
  {
   "cell_type": "code",
   "execution_count": 3,
   "id": "3ecde7df",
   "metadata": {
    "scrolled": true
   },
   "outputs": [
    {
     "name": "stdout",
     "output_type": "stream",
     "text": [
      "Requirement already satisfied: pymongo in /Users/charankornu/opt/anaconda3/lib/python3.9/site-packages (4.3.3)\r\n",
      "Requirement already satisfied: dnspython<3.0.0,>=1.16.0 in /Users/charankornu/opt/anaconda3/lib/python3.9/site-packages (from pymongo) (2.3.0)\r\n"
     ]
    }
   ],
   "source": [
    "!pip install pymongo"
   ]
  },
  {
   "cell_type": "code",
   "execution_count": 6,
   "id": "e4950234",
   "metadata": {},
   "outputs": [
    {
     "name": "stdout",
     "output_type": "stream",
     "text": [
      "Collecting mysql-connector-python\n",
      "  Downloading mysql_connector_python-8.0.33-py2.py3-none-any.whl (390 kB)\n",
      "\u001b[2K     \u001b[90m━━━━━━━━━━━━━━━━━━━━━━━━━━━━━━━━━━━━━━━\u001b[0m \u001b[32m390.1/390.1 kB\u001b[0m \u001b[31m7.9 MB/s\u001b[0m eta \u001b[36m0:00:00\u001b[0ma \u001b[36m0:00:01\u001b[0m\n",
      "\u001b[?25hCollecting protobuf<=3.20.3,>=3.11.0\n",
      "  Downloading protobuf-3.20.3-cp39-cp39-macosx_10_9_x86_64.whl (982 kB)\n",
      "\u001b[2K     \u001b[90m━━━━━━━━━━━━━━━━━━━━━━━━━━━━━━━━━━━━━━\u001b[0m \u001b[32m982.8/982.8 kB\u001b[0m \u001b[31m14.9 MB/s\u001b[0m eta \u001b[36m0:00:00\u001b[0ma \u001b[36m0:00:01\u001b[0m\n",
      "\u001b[?25hInstalling collected packages: protobuf, mysql-connector-python\n",
      "Successfully installed mysql-connector-python-8.0.33 protobuf-3.20.3\n"
     ]
    }
   ],
   "source": [
    "!pip install mysql-connector-python"
   ]
  },
  {
   "cell_type": "code",
   "execution_count": 1,
   "id": "c48ede64",
   "metadata": {},
   "outputs": [
    {
     "name": "stdout",
     "output_type": "stream",
     "text": [
      "db exists. Will be deleted...\n"
     ]
    }
   ],
   "source": [
    "import pymongo\n",
    "from pymongo import MongoClient\n",
    "\n",
    "client = pymongo.MongoClient(\"mongodb://localhost:27017/\")\n",
    "db = client[\"mydatabase\"]\n",
    "dbnames = client.list_database_names()\n",
    "if \"mydatabase\" in dbnames:\n",
    "    print(\"db exists. Will be deleted...\")\n",
    "    client.drop_database(\"mydatabase\")\n"
   ]
  },
  {
   "cell_type": "code",
   "execution_count": 2,
   "id": "7acbf9dc",
   "metadata": {},
   "outputs": [],
   "source": [
    "import json"
   ]
  },
  {
   "cell_type": "code",
   "execution_count": 3,
   "id": "ec9a6d67",
   "metadata": {},
   "outputs": [
    {
     "data": {
      "text/plain": [
       "Database(MongoClient(host=['localhost:27017'], document_class=dict, tz_aware=False, connect=True), 'mydatabase')"
      ]
     },
     "execution_count": 3,
     "metadata": {},
     "output_type": "execute_result"
    }
   ],
   "source": [
    "db"
   ]
  },
  {
   "cell_type": "code",
   "execution_count": 4,
   "id": "fee49369",
   "metadata": {},
   "outputs": [],
   "source": [
    "with open('corona-out.json', 'r') as f:\n",
    "    data = f.readlines()"
   ]
  },
  {
   "cell_type": "code",
   "execution_count": 5,
   "id": "0f3c328b",
   "metadata": {},
   "outputs": [],
   "source": [
    "from datetime import datetime\n",
    "\n",
    "tweets_collection = db['tweets']\n",
    "retweets_collection = db['retweets']\n",
    "\n",
    "for record in data:\n",
    "    try:\n",
    "        tweet = json.loads(record.strip())\n",
    "    except json.decoder.JSONDecodeError:\n",
    "       # print(f'Error: Invalid JSON format in record \"{record.strip()}\". Skipping...')\n",
    "        continue\n",
    "    try:\n",
    "        text = tweet['extended_tweet']['full_text']\n",
    "    except KeyError:\n",
    "        text = tweet['text']\n",
    "    \n",
    "    created_at = tweet['created_at']\n",
    "    tweet_datetime = datetime.strptime(created_at, '%a %b %d %H:%M:%S %z %Y')\n",
    "    month = tweet_datetime.strftime('%m')\n",
    "    year = tweet_datetime.strftime('%Y')\n",
    "    date = tweet_datetime.strftime('%d')\n",
    "\n",
    "\n",
    "    # Extract relevant data from tweet JSON\n",
    "    tweet_data = {\n",
    "        'id': tweet['id'],\n",
    "        'text': text,\n",
    "        'month': month,\n",
    "        'year': year,\n",
    "        'date': date,\n",
    "        'user_id': tweet['user']['id'],\n",
    "        'user_name': tweet['user']['name'],\n",
    "        'user_screen_name': tweet['user']['screen_name']\n",
    "    }\n",
    "    \n",
    "    if 'retweeted_status' in tweet:\n",
    "        try:\n",
    "            retweet_text = tweet['retweeted_status']['extended_tweet']['full_text']\n",
    "        except KeyError:\n",
    "            retweet_text = tweet['retweeted_status']['text']\n",
    "            \n",
    "        retweet_data = {\n",
    "            'rtwt_id': tweet['id'],\n",
    "            'text': retweet_text,\n",
    "            'month': month,\n",
    "            'year': year,\n",
    "            'date': date,\n",
    "            'ruser_id': tweet['user']['id'],\n",
    "            'ruser_name': tweet['user']['name'],\n",
    "            'ruser_screen_name': tweet['user']['screen_name'],\n",
    "            'otwt_id': tweet['retweeted_status']['id'],\n",
    "            'ouser_id': tweet['retweeted_status']['user']['id'],\n",
    "            'ouser_name': tweet['retweeted_status']['user']['name'],\n",
    "            'ouser_screen_name': tweet['retweeted_status']['user']['screen_name']\n",
    "        }\n",
    "    \n",
    "        \n",
    "        # Insert retweet data into retweets collection\n",
    "        retweets_collection.insert_one(retweet_data)\n",
    "    else:\n",
    "        \n",
    "        # Insert tweet data into tweets collection\n",
    "        tweets_collection.insert_one(tweet_data)\n"
   ]
  },
  {
   "cell_type": "code",
   "execution_count": 48,
   "id": "9c48a4fb",
   "metadata": {},
   "outputs": [
    {
     "name": "stdout",
     "output_type": "stream",
     "text": [
      "{'rtwt_id': 1254059752201519104, 'text': 'För att förstå vad Anders Tegnell menar med ”ett snabbare förlopp” krävs att man förstår svaret på en gåta. Hur många gånger måste man vika ett vanligt A4-papper för att det till slut är så tjockt att det når ända till månen?\\n\\nBriljant genomgång 👇 https://t.co/VnrztqZIci', 'created_at': 'Sat Apr 25 14:48:38 +0000 2020', 'ruser_id': 933734367679123456, 'ruser_name': 'Jacob', 'ruser_screen_name': 'lundgreenjacob', 'otwt_id': 1253966779900137472, 'ouser_id': 19236255, 'ouser_name': 'Anders Lindberg', 'ouser_screen_name': 'anderslindberg'}\n"
     ]
    }
   ],
   "source": [
    "print(retweet_data)"
   ]
  },
  {
   "cell_type": "code",
   "execution_count": 49,
   "id": "66933c8e",
   "metadata": {},
   "outputs": [
    {
     "name": "stdout",
     "output_type": "stream",
     "text": [
      "{'id': 1254059752201519104, 'text': 'RT @anderslindberg: För att förstå vad Anders Tegnell menar med ”ett snabbare förlopp” krävs att man förstår svaret på en gåta. Hur många g…', 'created_at': 'Sat Apr 25 14:48:38 +0000 2020', 'user_id': 933734367679123456, 'user_name': 'Jacob', 'user_screen_name': 'lundgreenjacob'}\n"
     ]
    }
   ],
   "source": [
    "print(tweet_data)"
   ]
  },
  {
   "cell_type": "markdown",
   "id": "a46a6fb3",
   "metadata": {},
   "source": [
    "# Iterate over records and store in appropriate collection\n",
    "import json\n",
    "from pymongo import MongoClient\n",
    "\n",
    "# Connect to MongoDB\n",
    "client = MongoClient('mongodb://localhost:27017/')\n",
    "db = client['twitter_db']\n",
    "tweets_collection = db['tweets_collection']\n",
    "retweets_collection = db['retweets_collection']\n",
    "\n",
    "# Read JSON file with exception handling\n",
    "with open('twitter_data.json', 'r') as f:\n",
    "    data = f.readlines()\n",
    "    \n",
    "for record in data:\n",
    "    try:\n",
    "        tweet = json.loads(record.strip())\n",
    "    except json.decoder.JSONDecodeError:\n",
    "        print(f'Error: Invalid JSON format in record \"{record.strip()}\". Skipping...')\n",
    "        continue\n",
    "\n",
    "    # Extract relevant data from tweet JSON\n",
    "    try:\n",
    "        text = tweet['extended_tweet']['full_text']\n",
    "    except KeyError:\n",
    "        text = tweet['text']\n",
    "\n",
    "    tweet_data = {\n",
    "        'id': tweet['id'],\n",
    "        'text': text,\n",
    "        'created_at': tweet['created_at'],\n",
    "        'user': {\n",
    "            'id': tweet['user']['id'],\n",
    "            'name': tweet['user']['name'],\n",
    "            'screen_name': tweet['user']['screen_name']\n",
    "        }\n",
    "    }\n",
    "\n",
    "    # Check if tweet is a retweet and extract retweet data if so\n",
    "    if 'retweeted_status' in tweet:\n",
    "        try:\n",
    "            retweet_text = tweet['retweeted_status']['extended_tweet']['full_text']\n",
    "        except KeyError:\n",
    "            retweet_text = tweet['retweeted_status']['text']\n",
    "            \n",
    "        retweet_data = {\n",
    "            'id': tweet['id'],\n",
    "            'text': retweet_text,\n",
    "            'created_at': tweet['created_at'],\n",
    "            'user': {\n",
    "                'id': tweet['user']['id'],\n",
    "                'name': tweet['user']['name'],\n",
    "                'screen_name': tweet['user']['screen_name']\n",
    "            },\n",
    "            'retweeted_status': {\n",
    "                'id': tweet['retweeted_status']['id'],\n",
    "                'user': {\n",
    "                    'id': tweet['retweeted_status']['user']['id'],\n",
    "                    'name': tweet['retweeted_status']['user']['name'],\n",
    "                    'screen_name': tweet['retweeted_status']['user']['screen_name']\n",
    "                }\n",
    "            }\n",
    "        }\n",
    "        \n",
    "        # Insert retweet data into retweets collection\n",
    "        retweets_collection.insert_one(retweet_data)\n",
    "    else:\n",
    "        # Insert tweet data into tweets collection\n",
    "        tweets_collection.insert_one(tweet_data)\n"
   ]
  }
 ],
 "metadata": {
  "kernelspec": {
   "display_name": "Python 3 (ipykernel)",
   "language": "python",
   "name": "python3"
  },
  "language_info": {
   "codemirror_mode": {
    "name": "ipython",
    "version": 3
   },
   "file_extension": ".py",
   "mimetype": "text/x-python",
   "name": "python",
   "nbconvert_exporter": "python",
   "pygments_lexer": "ipython3",
   "version": "3.9.13"
  }
 },
 "nbformat": 4,
 "nbformat_minor": 5
}
