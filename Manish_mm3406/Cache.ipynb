{
 "cells": [
  {
   "cell_type": "code",
   "execution_count": 3,
   "id": "1cccae95",
   "metadata": {},
   "outputs": [],
   "source": [
    "import time\n",
    "import json\n",
    "\n",
    "class LRUCache:\n",
    "    def __init__(self, max_size=1000, ttl=3600):\n",
    "        self.max_size = max_size\n",
    "        self.ttl = ttl\n",
    "        self.cache = {}\n",
    "        self.access_time = {}\n",
    "        self.disk_checkpoint_frequency = 300 # seconds\n",
    "        self.disk_checkpoint_time = time.time() + self.disk_checkpoint_frequency\n",
    "        \n",
    "        try:\n",
    "            with open('cache.json', 'r') as f:\n",
    "                self.cache = json.load(f)\n",
    "            with open('access_time.json', 'r') as f:\n",
    "                self.access_time = json.load(f)\n",
    "        except:\n",
    "            pass\n",
    "    \n",
    "    def __getitem__(self, key):\n",
    "        if key in self.cache:\n",
    "            # update access time\n",
    "            self.access_time[key] = time.time()\n",
    "            # check if entry is stale\n",
    "            if time.time() - self.access_time[key] > self.ttl:\n",
    "                del self.cache[key]\n",
    "                del self.access_time[key]\n",
    "                return None\n",
    "            else:\n",
    "                return self.cache[key]\n",
    "        else:\n",
    "            return None\n",
    "    \n",
    "    def __setitem__(self, key, value):\n",
    "        # evict LRU entry if max_size is reached\n",
    "        if len(self.cache) >= self.max_size:\n",
    "            lru_key = min(self.access_time, key=self.access_time.get)\n",
    "            del self.cache[lru_key]\n",
    "            del self.access_time[lru_key]\n",
    "        # set new entry\n",
    "        self.cache[key] = value\n",
    "        self.access_time[key] = time.time()\n",
    "        # checkpoint data on disk at periodic intervals\n",
    "        if time.time() > self.disk_checkpoint_time:\n",
    "            self.checkpoint_to_disk()\n",
    "            self.disk_checkpoint_time = time.time() + self.disk_checkpoint_frequency\n",
    "    \n",
    "    def checkpoint_to_disk(self):\n",
    "        with open('cache.json', 'w') as f:\n",
    "            json.dump(self.cache, f)\n",
    "        with open('access_time.json', 'w') as f:\n",
    "            json.dump(self.access_time, f)\n"
   ]
  },
  {
   "cell_type": "markdown",
   "id": "d51c48ac",
   "metadata": {},
   "source": [
    "This implementation uses a Python dictionary to store the cached data, with keys representing the hashtag/user ID and values representing the corresponding data. The cache has a maximum size (default: 1000) and a time-to-live (TTL) value for each entry (default: 3600 seconds). When an entry is accessed, its access time is updated and it is checked for staleness (i.e., if its access time is older than the TTL value, it is considered stale and evicted from the cache).\n",
    "\n",
    "The cache also periodically checkpoints its data to disk (default: every 300 seconds), so that it can be reloaded when the application starts up. The checkpointing is done using the checkpoint_to_disk() method, which saves the cache and access time dictionaries to two separate JSON files (cache.json and access_time.json). The __getitem__() and __setitem__() methods are used to get and set items in the cache, respectively. When setting a new item, the LRU strategy is used to evict the least recently used entry if the cache is full.\n",
    "\n",
    "To use this cache in your application, you can create an instance of the LRUCache class and use its __getitem__() and __setitem__() methods to get and set data:"
   ]
  },
  {
   "cell_type": "code",
   "execution_count": 4,
   "id": "3be23456",
   "metadata": {},
   "outputs": [
    {
     "ename": "NameError",
     "evalue": "name 'retrieve_data_from_database' is not defined",
     "output_type": "error",
     "traceback": [
      "\u001b[0;31m---------------------------------------------------------------------------\u001b[0m",
      "\u001b[0;31mNameError\u001b[0m                                 Traceback (most recent call last)",
      "\u001b[0;32m<ipython-input-4-3d3dac45c37e>\u001b[0m in \u001b[0;36m<module>\u001b[0;34m\u001b[0m\n\u001b[1;32m      5\u001b[0m \u001b[0;32mif\u001b[0m \u001b[0mdata\u001b[0m \u001b[0;32mis\u001b[0m \u001b[0;32mNone\u001b[0m\u001b[0;34m:\u001b[0m\u001b[0;34m\u001b[0m\u001b[0;34m\u001b[0m\u001b[0m\n\u001b[1;32m      6\u001b[0m     \u001b[0;31m# data not in cache, retrieve from database\u001b[0m\u001b[0;34m\u001b[0m\u001b[0;34m\u001b[0m\u001b[0;34m\u001b[0m\u001b[0m\n\u001b[0;32m----> 7\u001b[0;31m     \u001b[0mdata\u001b[0m \u001b[0;34m=\u001b[0m \u001b[0mretrieve_data_from_database\u001b[0m\u001b[0;34m(\u001b[0m\u001b[0;34m'#hashtag1'\u001b[0m\u001b[0;34m)\u001b[0m\u001b[0;34m\u001b[0m\u001b[0;34m\u001b[0m\u001b[0m\n\u001b[0m\u001b[1;32m      8\u001b[0m     \u001b[0;31m# store data in cache\u001b[0m\u001b[0;34m\u001b[0m\u001b[0;34m\u001b[0m\u001b[0;34m\u001b[0m\u001b[0m\n\u001b[1;32m      9\u001b[0m     \u001b[0mcache\u001b[0m\u001b[0;34m[\u001b[0m\u001b[0;34m'#hashtag1'\u001b[0m\u001b[0;34m]\u001b[0m \u001b[0;34m=\u001b[0m \u001b[0mdata\u001b[0m\u001b[0;34m\u001b[0m\u001b[0;34m\u001b[0m\u001b[0m\n",
      "\u001b[0;31mNameError\u001b[0m: name 'retrieve_data_from_database' is not defined"
     ]
    }
   ],
   "source": [
    "cache = LRUCache()\n",
    "\n",
    "# get data from cache\n",
    "data = cache['#hashtag1']\n",
    "if data is None:\n",
    "    # data not in cache, retrieve from database\n",
    "    data = retrieve_data_from_database('#hashtag1')\n",
    "    # store data in cache\n",
    "    cache['#hashtag1'] = data\n",
    "\n",
    "# use data\n",
    "process_data(data)\n"
   ]
  },
  {
   "cell_type": "markdown",
   "id": "c3cd7657",
   "metadata": {},
   "source": [
    "In this example, we first create an instance of the LRUCache class. We then try to retrieve the data associated with '#hashtag1' from the cache using the __getitem__() method. If the data is not found in the cache (i.e., data is None), we retrieve it from the database using the retrieve_data_from_database() function (which you would need to implement yourself). We then store the data in the cache using the __setitem__() method. Finally, we use the retrieved or cached data by passing it to the process_data() function (which you would also need to implement).\n",
    "\n",
    "Note that if the data is stale (i.e., its access time is older than the TTL value), it will be evicted from the cache and data will be None. In this case, you can simply retrieve the data from the database again and store it in the cache."
   ]
  }
 ],
 "metadata": {
  "kernelspec": {
   "display_name": "Python 3",
   "language": "python",
   "name": "python3"
  },
  "language_info": {
   "codemirror_mode": {
    "name": "ipython",
    "version": 3
   },
   "file_extension": ".py",
   "mimetype": "text/x-python",
   "name": "python",
   "nbconvert_exporter": "python",
   "pygments_lexer": "ipython3",
   "version": "3.8.8"
  }
 },
 "nbformat": 4,
 "nbformat_minor": 5
}
